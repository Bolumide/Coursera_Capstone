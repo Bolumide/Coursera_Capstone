{
 "cells": [
  {
   "cell_type": "markdown",
   "metadata": {
    "button": false,
    "new_sheet": false,
    "run_control": {
     "read_only": false
    }
   },
   "source": [
    "<h1 align=center><font size = 6>Introduction/Business Problem</font></h1>"
   ]
  },
  {
   "cell_type": "markdown",
   "metadata": {
    "button": false,
    "new_sheet": false,
    "run_control": {
     "read_only": false
    }
   },
   "source": [
    "# Introduction<a id=\"0\"></a>\n",
    "\n",
    "In this lab, we will study the Dataset of both Newyork City and the City of Toronto and try to understand the structure of both Dataset. This would help us gain more insight into the project that is to be carried out in the coming week."
   ]
  },
  {
   "cell_type": "markdown",
   "metadata": {
    "button": false,
    "new_sheet": false,
    "run_control": {
     "read_only": false
    }
   },
   "source": [
    "# Statement of Problem<a id=\"0\"></a>\n",
    "\n",
    "what is the relative cluster of neighbourhoods around Boroughs in Canada and what is the relative cluster of neighbourhoods around Boroughs in New York City. Is there any relationship or dissimilarity between cluster of enighbourhoods at Boroughs in Canada and New York City. These are the important questions we are going to be answering in our report.\n",
    "\n",
    "The way this Neighbourhoods are distributed or concentrated within the Boroghs would be very useful both in comparing the two locations and understanding the condition of the locaations."
   ]
  },
  {
   "cell_type": "markdown",
   "metadata": {},
   "source": [
    "## New York City and Toronto"
   ]
  },
  {
   "cell_type": "markdown",
   "metadata": {},
   "source": [
    "Both New york City and ontario are the capital of two leading economies of the world, the United States and Canada.\n",
    "We have been given the dataset for both cities' of which the content for both dataset are unque and different from each other.\n",
    "\n",
    "For Newyork City, the dataset consist of Five boroughs and 306 Neighbourhood.\n",
    "\n",
    "The boroughs are 'Bronx', 'Manhattan', 'Brooklyn', 'Queens' and 'Staten Island' while the Neighbourhoods are 'Wakefield' 'Co-op City' 'Eastchester' 'Fieldston' 'Riverdale' 'Kingsbridge' 'Marble Hill' 'Woodlawn' 'Norwood' 'Williamsbridge' 'Baychester' 'Pelham Parkway' 'City Island' 'Bedford Park' 'University Heights' 'Morris Heights' 'Fordham' 'East Tremont' 'West Farms' 'High  Bridge' 'Melrose' 'Mott Haven' 'Port Morris' 'Longwood' 'Hunts Point' 'Morrisania' 'Soundview' 'Clason Point' 'Throgs Neck' 'Country Club' 'Parkchester' 'Westchester Square' 'Van Nest' 'Morris Park' 'Belmont' 'Spuyten Duyvil' 'North Riverdale' 'Pelham Bay' 'Schuylerville' 'Edgewater Park' 'Castle Hill' 'Olinville' 'Pelham Gardens' 'Concourse' 'Unionport' 'Edenwald' 'Bay Ridge' 'Bensonhurst' 'Sunset Park' 'Greenpoint' 'Gravesend' 'Brighton Beach' 'Sheepshead Bay' 'Manhattan Terrace' 'Flatbush' 'Crown Heights' 'East Flatbush' 'Kensington' 'Windsor Terrace' 'Prospect Heights' 'Brownsville' 'Williamsburg' 'Bushwick' 'Bedford Stuyvesant' 'Brooklyn Heights' 'Cobble Hill' 'Carroll Gardens' 'Red Hook' 'Gowanus' 'Fort Greene' 'Park Slope' 'Cypress Hills' 'East New York' 'Starrett City' 'Canarsie' 'Flatlands' 'Mill Island' 'Manhattan Beach' 'Coney Island' 'Bath Beach' 'Borough Park' 'Dyker Heights' 'Gerritsen Beach' 'Marine Park' 'Clinton Hill' 'Sea Gate' 'Downtown' 'Boerum Hill' 'Prospect Lefferts Gardens' 'Ocean Hill' 'City Line' 'Bergen Beach' 'Midwood' 'Prospect Park South' 'Georgetown' 'East Williamsburg' 'North Side' 'South Side' 'Ocean Parkway' 'Fort Hamilton' 'Chinatown' 'Washington Heights' 'Inwood' 'Hamilton Heights' 'Manhattanville' 'Central Harlem' 'East Harlem' 'Upper East Side' 'Yorkville' 'Lenox Hill' 'Roosevelt Island' 'Upper West Side' 'Lincoln Square' 'Clinton' 'Midtown' 'Murray Hill' 'Chelsea' 'Greenwich Village' 'East Village' 'Lower East Side' 'Tribeca' 'Little Italy' 'Soho' 'West Village' 'Manhattan Valley' 'Morningside Heights' 'Gramercy' 'Battery Park City' 'Financial District' 'Astoria' 'Woodside' 'Jackson Heights' 'Elmhurst' 'Howard Beach' 'Corona' 'Forest Hills' 'Kew Gardens' 'Richmond Hill' 'Flushing' 'Long Island City' 'Sunnyside' 'East Elmhurst' 'Maspeth' 'Ridgewood' 'Glendale' 'Rego Park' 'Woodhaven' 'Ozone Park' 'South Ozone Park' 'College Point' 'Whitestone' 'Bayside' 'Auburndale' 'Little Neck' 'Douglaston' 'Glen Oaks' 'Bellerose' 'Kew Gardens Hills' 'Fresh Meadows' 'Briarwood' 'Jamaica Center' 'Oakland Gardens' 'Queens Village' 'Hollis' 'South Jamaica' 'St. Albans' 'Rochdale' 'Springfield Gardens' 'Cambria Heights' 'Rosedale' 'Far Rockaway' 'Broad Channel' 'Breezy Point' 'Steinway' 'Beechhurst' 'Bay Terrace' 'Edgemere' 'Arverne' 'Rockaway Beach' 'Neponsit' 'Floral Park' 'Holliswood' 'Jamaica Estates' 'Queensboro Hill' 'Hillcrest' 'Ravenswood' 'Lindenwood' 'Laurelton' 'Lefrak City' 'Belle Harbor' 'Rockaway Park' 'Somerville' 'Brookville' 'BellaireBellaire' 'North Corona' 'Forest Hills Gardens' 'St. George' 'New Brighton' 'Stapleton' 'Rosebank' 'West Brighton' 'Grymes Hill' 'Todt Hill' 'South Beach' 'Port Richmond' \"Mariner's Harbor\" 'Port Ivory' 'Castleton Corners' 'New Springville' 'Travis' 'New Dorp' 'Oakwood' 'Great Kills' 'Eltingville' 'Annadale' 'Woodrow' 'Tottenville' 'Tompkinsville' 'Silver Lake' 'Ditmas Park' 'Wingate' 'Rugby' 'Park Hill' 'Westerleigh' 'Graniteville' 'Arlington' 'Arrochar' 'Grasmere' 'Old Town' 'Dongan Hills' 'Midland Beach' 'Grant City' 'New Dorp Beach' 'Huguenot' 'Pleasant Plains' 'Butler Manor' 'Charleston' 'Rossville' 'Arden Heights' 'Greenridge' 'Heartland Village' 'Bloomfield' 'Bulls Head' 'Carnegie Hill' 'Noho' 'Civic Center' 'Midtown South' 'Richmond Town' 'Shore Acres' 'Clifton' 'Concord' 'Emerson Hill' 'Randall Manor' 'Howland Hook' 'Elm Park' 'Remsen Village' 'New Lots' 'Paerdegat Basin' 'Mill Basin' 'Jamaica Hills' 'Utopia' 'Pomonok' 'Astoria Heights' 'Claremont Village' 'Concourse Village' 'Mount Eden' 'Mount Hope' 'Sutton Place' 'Hunters Point' 'Turtle Bay' 'Tudor City' 'Stuyvesant Town' 'Flatiron' 'Sunnyside Gardens' 'Blissville' 'Fulton Ferry' 'Vinegar Hill' 'Weeksville' 'Broadway Junction' 'Dumbo' 'Manor Heights' 'Willowbrook' 'Sandy Ground' 'Egbertville' 'Roxbury' 'Homecrest' 'Middle Village' \"Prince's Bay\" 'Lighthouse Hill' 'Richmond Valley' 'Malba' 'Highland Park' 'Madison' 'Bronxdale' 'Allerton' 'Kingsbridge Heights' 'Erasmus' 'Hudson Yards' 'Hammels' 'Bayswater' 'Queensbridge' 'Fox Hills'.\n",
    "\n",
    "Unlike the Newyork City Dataset, that of Toronto contains lesser amount of Boroughs and Neighbourhoods.\n",
    "The Toronto Dataset has four Boroughs and Thirty-nine Neighbourhoods.\n",
    "\n",
    "The Boroughs are 'Downtown Toronto', 'East Toronto', 'West Toronto', 'Central Toronto' while the Neighbourhoods are 'Regent Park, Harbourfront', \"Queen's Park, Ontario Provincial Government\", 'Garden District, Ryerson', 'St. James Town', 'The Beaches', 'Berczy Park', 'Central Bay Street', 'Christie', 'Richmond, Adelaide, King', 'Dufferin, Dovercourt Village', 'Harbourfront East, Union Station, Toronto Islands', 'Little Portugal, Trinity', 'The Danforth West, Riverdale', 'Toronto Dominion Centre, Design Exchange', 'Brockton, Parkdale Village, Exhibition Place', 'India Bazaar, The Beaches West', 'Commerce Court, Victoria Hotel', 'Studio District', 'Lawrence Park', 'Roselawn', 'Davisville North', 'Forest Hill North & West, Forest Hill Road Park', 'High Park, The Junction South', 'North Toronto West, Lawrence Park', 'The Annex, North Midtown, Yorkville', 'Parkdale, Roncesvalles', 'Davisville', 'University of Toronto, Harbord', 'Runnymede, Swansea', 'Moore Park, Summerhill East', 'Kensington Market, Chinatown, Grange Park', 'Summerhill West, Rathnelly, South Hill, Forest Hill SE, Deer Park', 'CN Tower, King and Spadina, Railway Lands, Harbourfront West, Bathurst Quay, South Niagara, Island airport', 'Rosedale', 'Stn A PO Boxes', 'St. James Town, Cabbagetown', 'First Canadian Place, Underground city', 'Church and Wellesley', 'Business reply mail Processing Centre and South Central Letter Processing Plant Toronto'."
   ]
  },
  {
   "cell_type": "markdown",
   "metadata": {},
   "source": [
    "## Observations"
   ]
  },
  {
   "cell_type": "markdown",
   "metadata": {},
   "source": [
    "Observing the dataset for Toronto and the dataset for New york, the following inferences can be drawn:\n",
    "Newyork has more clusters than Toronto with a total of three clusters in one city.\n",
    "New york is bigger than Toronto and has more neighbourhoods and boroughs than Toronto.\n",
    "Newyork has a total of 5 boroughs and 306 neighbourhoods while Toronto has a total of 103 neighbourhoods.\n",
    "The both dataset would be used to create explanatory visualisations and draw insights into the level of cluster in both cities."
   ]
  },
  {
   "cell_type": "markdown",
   "metadata": {
    "button": false,
    "new_sheet": false,
    "run_control": {
     "read_only": false
    }
   },
   "source": [
    "# Conclusion <a id=\"2\"></a>\n",
    "In addition, the both Dataset are structured in similar ways, that is in both Dataset, One Borough can have more than one Neighbourhood. We saw this in the maps that was displayed under both Dataset, there was a graphical representation that shows how much the Neighbourhoods were clustered around the Boroughs. A city with more clustered Neighbourhoods might be most suitable for a restaurant as situating a restaurant at the centra of a cluster makes it accessible to more Neighbourhoods. This is merely a statement that would be further explained in the coming week."
   ]
  },
  {
   "cell_type": "code",
   "execution_count": null,
   "metadata": {},
   "outputs": [],
   "source": []
  }
 ],
 "metadata": {
  "kernelspec": {
   "display_name": "Python 3",
   "language": "python",
   "name": "python3"
  },
  "language_info": {
   "codemirror_mode": {
    "name": "ipython",
    "version": 3
   },
   "file_extension": ".py",
   "mimetype": "text/x-python",
   "name": "python",
   "nbconvert_exporter": "python",
   "pygments_lexer": "ipython3",
   "version": "3.7.9"
  },
  "widgets": {
   "state": {},
   "version": "1.1.2"
  }
 },
 "nbformat": 4,
 "nbformat_minor": 4
}
