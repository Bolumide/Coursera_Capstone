{
 "cells": [
  {
   "cell_type": "markdown",
   "metadata": {
    "button": false,
    "new_sheet": false,
    "run_control": {
     "read_only": false
    }
   },
   "source": [
    "<h1 align=center><font size = 6>Introduction/Business Problem</font></h1>"
   ]
  },
  {
   "cell_type": "markdown",
   "metadata": {
    "button": false,
    "new_sheet": false,
    "run_control": {
     "read_only": false
    }
   },
   "source": [
    "# Introduction<a id=\"0\"></a>\n",
    "\n",
    "In this lab, we will study the Dataset of both Newyork City and the City of Toronto and try to understand the structure of both Dataset. This would help us gain more insight into the project that is to be carried out in the coming week."
   ]
  },
  {
   "cell_type": "markdown",
   "metadata": {
    "button": false,
    "new_sheet": false,
    "run_control": {
     "read_only": false
    }
   },
   "source": [
    "# Statement of Problem<a id=\"0\"></a>\n",
    "\n",
    "what is the relative cluster of neighbourhoods around Boroughs in Canada and what is the relative cluster of neighbourhoods around Boroughs in New York City. Is there any relationship or dissimilarity between cluster of enighbourhoods at Boroughs in Canada and New York City. These are the important questions we are going to be answering in our report.\n",
    "\n",
    "The way this Neighbourhoods are distributed or concentrated within the Boroghs would be very useful both in comparing the two locations and understanding the condition of the locaations."
   ]
  },
  {
   "cell_type": "markdown",
   "metadata": {
    "button": false,
    "new_sheet": false,
    "run_control": {
     "read_only": false
    }
   },
   "source": [
    "# Conclusion <a id=\"2\"></a>\n",
    "In addition, the both Dataset are structured in similar ways, that is in both Dataset, One Borough can have more than one Neighbourhood. We saw this in the maps that was displayed under both Dataset, there was a graphical representation that shows how much the Neighbourhoods were clustered around the Boroughs. A city with more clustered Neighbourhoods might be most suitable for a restaurant as situating a restaurant at the centra of a cluster makes it accessible to more Neighbourhoods. This is merely a statement that would be further explained in the coming week."
   ]
  },
  {
   "cell_type": "code",
   "execution_count": null,
   "metadata": {},
   "outputs": [],
   "source": []
  }
 ],
 "metadata": {
  "kernelspec": {
   "display_name": "Python 3",
   "language": "python",
   "name": "python3"
  },
  "language_info": {
   "codemirror_mode": {
    "name": "ipython",
    "version": 3
   },
   "file_extension": ".py",
   "mimetype": "text/x-python",
   "name": "python",
   "nbconvert_exporter": "python",
   "pygments_lexer": "ipython3",
   "version": "3.7.9"
  },
  "widgets": {
   "state": {},
   "version": "1.1.2"
  }
 },
 "nbformat": 4,
 "nbformat_minor": 4
}
